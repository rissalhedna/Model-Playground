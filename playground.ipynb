{
 "cells": [
  {
   "cell_type": "code",
   "execution_count": null,
   "metadata": {},
   "outputs": [
    {
     "name": "stdout",
     "output_type": "stream",
     "text": [
      "Using GPU: NVIDIA GeForce RTX 2080 Ti\n",
      "CUDA Version: 12.1\n",
      "Device: cuda\n"
     ]
    }
   ],
   "source": [
    "import os\n",
    "os.environ[\"CUDA_DEVICE_ORDER\"] = \"PCI_BUS_ID\"\n",
    "os.environ[\"CUDA_VISIBLE_DEVICES\"] = \"0\"\n",
    "\n",
    "# from torchvision.datasets import MNIST\n",
    "from torchvision import transforms\n",
    "import torch\n",
    "from torch.utils.data import DataLoader, Dataset\n",
    "\n",
    "from model import *\n",
    "\n",
    "import pandas as pd\n",
    "\n",
    "import matplotlib.pyplot as plt\n",
    "import torch.nn as nn\n",
    "\n",
    "if torch.cuda.is_available():\n",
    "    device = torch.device('cuda')\n",
    "    print(f\"Using GPU: {torch.cuda.get_device_name()}\")\n",
    "    print(f\"CUDA Version: {torch.version.cuda}\")\n",
    "else:\n",
    "    device = torch.device('cpu')\n",
    "    print(\"CUDA not available, using CPU\")\n",
    "\n",
    "print(f\"Device: {device}\")"
   ]
  },
  {
   "cell_type": "code",
   "execution_count": 2,
   "metadata": {},
   "outputs": [
    {
     "data": {
      "text/plain": [
       "device(type='cuda')"
      ]
     },
     "execution_count": 2,
     "metadata": {},
     "output_type": "execute_result"
    }
   ],
   "source": [
    "device"
   ]
  },
  {
   "cell_type": "code",
   "execution_count": 3,
   "metadata": {},
   "outputs": [],
   "source": [
    "from model import create_lightweight_detector\n",
    "\n",
    "yolo = create_lightweight_detector().to(device)"
   ]
  },
  {
   "cell_type": "code",
   "execution_count": 4,
   "metadata": {},
   "outputs": [
    {
     "name": "stdout",
     "output_type": "stream",
     "text": [
      "           name               image_path               scene_path  \\\n",
      "0  ywS7Z8PYDwzU  images/ywS7Z8PYDwzU.png  scenes/ywS7Z8PYDwzU.xml   \n",
      "1  qVq9KrxI6cUJ  images/qVq9KrxI6cUJ.png  scenes/qVq9KrxI6cUJ.xml   \n",
      "2  t4etaisoU0XU  images/t4etaisoU0XU.png  scenes/t4etaisoU0XU.xml   \n",
      "3  EavwTEpzWeZF  images/EavwTEpzWeZF.png  scenes/EavwTEpzWeZF.xml   \n",
      "4  N1bhJZadcJRJ  images/N1bhJZadcJRJ.png  scenes/N1bhJZadcJRJ.xml   \n",
      "\n",
      "   volume_occupancy  floor_occupancy          scenario  \n",
      "0          0.265683         0.399375  mixed-cargo-type  \n",
      "1          0.001135         0.008125  mixed-cargo-type  \n",
      "2          0.015896         0.028125  mixed-cargo-type  \n",
      "3          0.511350         0.629687  mixed-cargo-type  \n",
      "4          0.240704         0.325000  mixed-cargo-type  \n"
     ]
    }
   ],
   "source": [
    "df = pd.read_parquet(\"trailer-53ft-data-large/data.parquet\")\n",
    "\n",
    "print(df.head())"
   ]
  },
  {
   "cell_type": "code",
   "execution_count": 5,
   "metadata": {},
   "outputs": [
    {
     "data": {
      "text/plain": [
       "count    5910.000000\n",
       "mean        0.299157\n",
       "std         0.262925\n",
       "min         0.000000\n",
       "25%         0.054783\n",
       "50%         0.254329\n",
       "75%         0.484436\n",
       "max         0.883399\n",
       "Name: volume_occupancy, dtype: float64"
      ]
     },
     "execution_count": 5,
     "metadata": {},
     "output_type": "execute_result"
    }
   ],
   "source": [
    "df[\"volume_occupancy\"].describe()"
   ]
  },
  {
   "cell_type": "code",
   "execution_count": 6,
   "metadata": {},
   "outputs": [],
   "source": [
    "import matplotlib.pyplot as plt\n",
    "import torch\n",
    "\n",
    "def show_rgb_tensor(tensor):\n",
    "    img = tensor.detach().cpu().numpy()\n",
    "    \n",
    "    if img.ndim == 4:\n",
    "        img = img[0]\n",
    "    \n",
    "    if img.shape[0] == 3: \n",
    "        img = img.transpose(1, 2, 0)\n",
    "    \n",
    "    img = (img - img.min()) / (img.max() - img.min())\n",
    "    \n",
    "    plt.imshow(img)\n",
    "    plt.axis('off')\n",
    "    plt.show()"
   ]
  },
  {
   "cell_type": "code",
   "execution_count": 27,
   "metadata": {},
   "outputs": [],
   "source": [
    "from PIL import Image\n",
    "import os\n",
    "import numpy as np\n",
    "from torch.utils.data import Dataset\n",
    "\n",
    "class TrailerDataModule(Dataset):\n",
    "    def __init__(self, annotations_file, image_dir, transform=None, target_transform=None):\n",
    "        self.annotations = pd.read_parquet(annotations_file)\n",
    "        self.image_dir = image_dir\n",
    "        self.transform = transform\n",
    "        self.target_transform = target_transform\n",
    "\n",
    "    def __len__(self):\n",
    "        return len(self.annotations)\n",
    "    \n",
    "    def __getitem__(self, idx):\n",
    "        img_path = os.path.join(self.image_dir, self.annotations.iloc[idx, 1])\n",
    "        image = Image.open(img_path).convert(\"RGB\")\n",
    "        # label = self.annotations.iloc[idx, 3]\n",
    "\n",
    "        label = np.digitize(self.annotations.iloc[idx, 3], bins= [0, 0.1, 0.5]) - 1\n",
    "        \n",
    "\n",
    "        if self.transform:\n",
    "            image = self.transform(image)\n",
    "        if self.target_transform:\n",
    "            label = self.target_transform(label)\n",
    "\n",
    "        return image, label"
   ]
  },
  {
   "cell_type": "code",
   "execution_count": 28,
   "metadata": {},
   "outputs": [
    {
     "name": "stdout",
     "output_type": "stream",
     "text": [
      "Class distribution:\n",
      "Class 0 (Low (0-0.1)): 1729 samples\n",
      "Class 1 (Medium (0.1-0.5)): 2769 samples\n",
      "Class 2 (High (>0.5)): 1412 samples\n",
      "Total samples: 5910\n"
     ]
    },
    {
     "data": {
      "text/plain": [
       "(array([1, 2, 3]), array([1729, 2769, 1412]))"
      ]
     },
     "execution_count": 28,
     "metadata": {},
     "output_type": "execute_result"
    }
   ],
   "source": [
    "labels = np.digitize(df[\"volume_occupancy\"], bins=[0, 0.1, 0.5])\n",
    "print(\"Class distribution:\")\n",
    "unique_labels, counts = np.unique(labels, return_counts=True)\n",
    "for label, count in zip(unique_labels, counts):\n",
    "    class_names = ['Low (0-0.1)', 'Medium (0.1-0.5)', 'High (>0.5)']\n",
    "    if label <= len(class_names):\n",
    "        print(f\"Class {label-1} ({class_names[label-1]}): {count} samples\")\n",
    "print(f\"Total samples: {len(labels)}\")\n",
    "np.unique(labels, return_counts=True)"
   ]
  },
  {
   "cell_type": "code",
   "execution_count": 29,
   "metadata": {},
   "outputs": [
    {
     "name": "stdout",
     "output_type": "stream",
     "text": [
      "Using large dataset: trailer-53ft-data-large\n"
     ]
    },
    {
     "name": "stderr",
     "output_type": "stream",
     "text": [
      "/export/home/3hedna/.local/lib/python3.8/site-packages/torchvision/transforms/v2/_deprecated.py:42: UserWarning: The transform `ToTensor()` is deprecated and will be removed in a future release. Instead, please use `v2.Compose([v2.ToImage(), v2.ToDtype(torch.float32, scale=True)])`.Output is equivalent up to float precision.\n",
      "  warnings.warn(\n"
     ]
    }
   ],
   "source": [
    "from torchvision.transforms import v2\n",
    "transform = v2.Compose(\n",
    "    [\n",
    "        v2.ToTensor(),\n",
    "        v2.Resize([512, 512]),\n",
    "        v2.Normalize(mean=[0.485, 0.456, 0.406], std=[0.229, 0.224, 0.225]),\n",
    "        \n",
    "    ]\n",
    ")\n",
    "try:\n",
    "    data = TrailerDataModule(annotations_file=\"trailer-53ft-data-large/data.parquet\", \n",
    "                           image_dir=\"trailer-53ft-data-large\", transform=transform)\n",
    "    print(\"Using large dataset: trailer-53ft-data-large\")\n",
    "except:\n",
    "    data = TrailerDataModule(annotations_file=\"trailer-53ft-data/data.parquet\", \n",
    "                           image_dir=\"trailer-53ft-data\", transform=transform)\n",
    "    print(\"Using regular dataset: trailer-53ft-data\")"
   ]
  },
  {
   "cell_type": "code",
   "execution_count": 57,
   "metadata": {},
   "outputs": [
    {
     "name": "stdout",
     "output_type": "stream",
     "text": [
      "0\n"
     ]
    },
    {
     "data": {
      "image/png": "[encoded data removed]",
      "text/plain": [
       "<Figure size 432x288 with 1 Axes>"
      ]
     },
     "metadata": {
      "needs_background": "light"
     },
     "output_type": "display_data"
    }
   ],
   "source": [
    "\n",
    "idx = torch.randint(0, len(data), (1,)).item()\n",
    "\n",
    "print(data[idx][1])\n",
    "show_rgb_tensor(data[idx][0])\n"
   ]
  },
  {
   "cell_type": "code",
   "execution_count": 11,
   "metadata": {},
   "outputs": [
    {
     "name": "stderr",
     "output_type": "stream",
     "text": [
      "/usr/local/lib/python3.8/dist-packages/scipy/__init__.py:146: UserWarning: A NumPy version >=1.16.5 and <1.23.0 is required for this version of SciPy (detected version 1.24.4\n",
      "  warnings.warn(f\"A NumPy version >={np_minversion} and <{np_maxversion}\"\n"
     ]
    }
   ],
   "source": [
    "from sklearn.model_selection import train_test_split \n",
    "\n",
    "train, test = train_test_split(data, test_size=0.2, random_state=42, shuffle=True)"
   ]
  },
  {
   "cell_type": "code",
   "execution_count": 12,
   "metadata": {},
   "outputs": [
    {
     "name": "stdout",
     "output_type": "stream",
     "text": [
      "torch.Size([70, 3, 224, 224])\n",
      "torch.Size([70])\n"
     ]
    }
   ],
   "source": [
    "batch_size = 4\n",
    "train_dataloader = DataLoader(train, batch_size=batch_size, shuffle=True)\n",
    "test_dataloader = DataLoader(test, batch_size=batch_size, shuffle=True)\n",
    "\n",
    "print(f\"Using batch size: {batch_size}\")\n",
    "for X, y in train_dataloader:\n",
    "    print(f\"Input shape: {X.shape}\")\n",
    "    print(f\"Label shape: {y.shape}\")\n",
    "    print(f\"Memory usage per batch: ~{X.element_size() * X.nelement() / 1024**2:.1f} MB\")\n",
    "    break"
   ]
  },
  {
   "cell_type": "code",
   "execution_count": 13,
   "metadata": {},
   "outputs": [
    {
     "name": "stderr",
     "output_type": "stream",
     "text": [
      "/export/home/3hedna/.local/lib/python3.8/site-packages/torch/optim/lr_scheduler.py:60: UserWarning: The verbose parameter is deprecated. Please use get_last_lr() to access the learning rate.\n",
      "  warnings.warn(\n"
     ]
    }
   ],
   "source": [
    "from torch.optim.lr_scheduler import ReduceLROnPlateau\n",
    "from sklearn.metrics import f1_score, balanced_accuracy_score, cohen_kappa_score, precision_recall_fscore_support, confusion_matrix\n",
    "import seaborn as sns\n",
    "\n",
    "loss_fn = nn.CrossEntropyLoss()\n",
    "optimizer = torch.optim.AdamW(yolo.parameters(), lr=1e-2)\n",
    "\n",
    "scheduler = ReduceLROnPlateau(\n",
    "    optimizer, \n",
    "    mode='min',          \n",
    "    factor=0.1,         \n",
    "    patience=3,          \n",
    "    verbose=True,        \n",
    "    min_lr=1e-9          \n",
    ")\n",
    "\n",
    "print(f\"Model parameter count: {sum(p.numel() for p in yolo.parameters()):,}\")\n",
    "print(f\"Trainable parameters: {sum(p.numel() for p in yolo.parameters() if p.requires_grad):,}\")"
   ]
  },
  {
   "cell_type": "code",
   "execution_count": 22,
   "metadata": {},
   "outputs": [],
   "source": [
    "import gc\n",
    "\n",
    "def train_loop(dataloader, model, loss_fn, scheduler):\n",
    "    size = len(dataloader.dataset)\n",
    "    model.train()\n",
    "    for batch, (X,y) in enumerate(dataloader):\n",
    "        torch.cuda.empty_cache()\n",
    "        gc.collect()\n",
    "\n",
    "        X, y = X.to(device), y.to(device)\n",
    "\n",
    "        pred = model(X)\n",
    "        loss = loss_fn(pred, y)\n",
    "\n",
    "        loss.backward()\n",
    "        optimizer.step()\n",
    "        optimizer.zero_grad()\n",
    "        scheduler.step(loss)\n",
    "        if batch % 100 == 0:\n",
    "            loss, current = loss.item(), (batch + 1) * len(X)\n",
    "            print(f\"loss: {loss:>7f}  [{current:>5d}/{size:>5d}]\")"
   ]
  },
  {
   "cell_type": "code",
   "execution_count": null,
   "metadata": {},
   "outputs": [],
   "source": [
    "def train_with_scheduler(train_dataloader, test_dataloader, model, loss_fn, optimizer, scheduler, epochs):\n",
    "    train_losses = []\n",
    "    test_losses = []\n",
    "    test_accuracies = []\n",
    "    test_f1_scores = []\n",
    "    test_balanced_accuracies = []\n",
    "    test_kappa_scores = []\n",
    "    learning_rates = []\n",
    "\n",
    "    for epoch in range(epochs):\n",
    "        current_lr = optimizer.param_groups[0]['lr']\n",
    "        learning_rates.append(current_lr)\n",
    "        print(f\"Epoch {epoch+1}/{epochs} - LR: {current_lr:.2e}\")\n",
    "\n",
    "        model.train()\n",
    "        train_loss = 0\n",
    "\n",
    "        for batch, (X, y) in enumerate(train_dataloader):\n",
    "            X, y = X.to(device), y.to(device)\n",
    "\n",
    "            pred = model(X)\n",
    "            loss = loss_fn(pred, y)\n",
    "\n",
    "            loss.backward()\n",
    "            optimizer.step()\n",
    "            optimizer.zero_grad()\n",
    "\n",
    "            train_loss += loss.item()\n",
    "\n",
    "            if batch % 10 == 0:\n",
    "                current = (batch + 1) * len(X)\n",
    "                print(f\"  Batch {batch}: loss: {loss.item():.6f} [{current}/{len(train_dataloader.dataset)}]\")\n",
    "\n",
    "        avg_train_loss = train_loss / len(train_dataloader)\n",
    "        train_losses.append(avg_train_loss)\n",
    "\n",
    "        model.eval()\n",
    "        test_loss, correct = 0, 0\n",
    "        all_preds = []\n",
    "        all_targets = []\n",
    "\n",
    "        with torch.no_grad():\n",
    "            for X, y in test_dataloader:\n",
    "                X, y = X.to(device), y.to(device)\n",
    "                pred = model(X)\n",
    "                test_loss += loss_fn(pred, y).item()\n",
    "\n",
    "                pred_classes = pred.argmax(1)\n",
    "                correct += (pred_classes == y).type(torch.float).sum().item()\n",
    "\n",
    "                all_preds.extend(pred_classes.cpu().numpy())\n",
    "                all_targets.extend(y.cpu().numpy())\n",
    "\n",
    "        avg_test_loss = test_loss / len(test_dataloader)\n",
    "        accuracy = correct / len(test_dataloader.dataset)\n",
    "\n",
    "        f1 = f1_score(all_targets, all_preds, average='weighted')\n",
    "        balanced_acc = balanced_accuracy_score(all_targets, all_preds)\n",
    "        kappa = cohen_kappa_score(all_targets, all_preds)\n",
    "\n",
    "        test_losses.append(avg_test_loss)\n",
    "        test_accuracies.append(accuracy)\n",
    "        test_f1_scores.append(f1)\n",
    "        test_balanced_accuracies.append(balanced_acc)\n",
    "        test_kappa_scores.append(kappa)\n",
    "\n",
    "        scheduler.step(avg_test_loss)\n",
    "\n",
    "        print(f\"Train Loss: {avg_train_loss:.6f}, Test Loss: {avg_test_loss:.6f}\")\n",
    "        print(f\"Accuracy: {accuracy*100:.2f}%, F1: {f1:.4f}, Balanced Acc: {balanced_acc:.4f}, Kappa: {kappa:.4f}\")\n",
    "\n",
    "        new_lr = optimizer.param_groups[0]['lr']\n",
    "        if new_lr < current_lr:\n",
    "            print(f\"LR reduced from {current_lr:.2e} to {new_lr:.2e}\")\n",
    "\n",
    "    return train_losses, test_losses, test_accuracies, test_f1_scores, test_balanced_accuracies, test_kappa_scores, learning_rates, all_targets, all_preds\n"
   ]
  },
  {
   "cell_type": "code",
   "execution_count": null,
   "metadata": {},
   "outputs": [],
   "source": [
    "def plot_results(train_losses, test_losses, test_accuracies, test_f1_scores, test_balanced_accuracies, test_kappa_scores, learning_rates, all_targets, all_preds):\n",
    "    epochs = range(1, len(train_losses) + 1)\n",
    "\n",
    "    fig = plt.figure(figsize=(20, 12))\n",
    "\n",
    "    ax1 = plt.subplot(2, 3, 1)\n",
    "    ax1.plot(epochs, train_losses, 'b-', label='Training Loss', linewidth=2)\n",
    "    ax1.plot(epochs, test_losses, 'r-', label='Test Loss', linewidth=2)\n",
    "    ax1.set_title('Training and Test Loss', fontsize=14, fontweight='bold')\n",
    "    ax1.set_xlabel('Epoch')\n",
    "    ax1.set_ylabel('Loss')\n",
    "    ax1.legend()\n",
    "    ax1.grid(True, alpha=0.3)\n",
    "\n",
    "    ax2 = plt.subplot(2, 3, 2)\n",
    "    ax2.plot(epochs, [acc * 100 for acc in test_accuracies], 'g-', label='Accuracy', linewidth=2)\n",
    "    ax2.plot(epochs, [f1 * 100 for f1 in test_f1_scores], 'orange', label='F1-Score', linewidth=2)\n",
    "    ax2.plot(epochs, [ba * 100 for ba in test_balanced_accuracies], 'purple', label='Balanced Acc', linewidth=2)\n",
    "    ax2.set_title('Classification Metrics (%)', fontsize=14, fontweight='bold')\n",
    "    ax2.set_xlabel('Epoch')\n",
    "    ax2.set_ylabel('Percentage')\n",
    "    ax2.legend()\n",
    "    ax2.grid(True, alpha=0.3)\n",
    "\n",
    "    ax3 = plt.subplot(2, 3, 3)\n",
    "    ax3.plot(epochs, test_kappa_scores, 'red', marker='o', markersize=3, linewidth=2)\n",
    "    ax3.set_title('Cohen\\'s Kappa Score', fontsize=14, fontweight='bold')\n",
    "    ax3.set_xlabel('Epoch')\n",
    "    ax3.set_ylabel('Kappa Score')\n",
    "    ax3.grid(True, alpha=0.3)\n",
    "\n",
    "    ax4 = plt.subplot(2, 3, 4)\n",
    "    ax4.plot(epochs, learning_rates, 'purple', marker='o', markersize=3, linewidth=2)\n",
    "    ax4.set_title('Learning Rate Schedule', fontsize=14, fontweight='bold')\n",
    "    ax4.set_xlabel('Epoch')\n",
    "    ax4.set_ylabel('Learning Rate')\n",
    "    ax4.set_yscale('log')\n",
    "    ax4.grid(True, alpha=0.3)\n",
    "\n",
    "    ax5 = plt.subplot(2, 3, 5)\n",
    "    cm = confusion_matrix(all_targets, all_preds)\n",
    "    sns.heatmap(cm, annot=True, fmt='d', cmap='Blues', ax=ax5, \n",
    "                xticklabels=['Low', 'Medium', 'High'], \n",
    "                yticklabels=['Low', 'Medium', 'High'])\n",
    "    ax5.set_title('Confusion Matrix', fontsize=14, fontweight='bold')\n",
    "    ax5.set_xlabel('Predicted')\n",
    "    ax5.set_ylabel('Actual')\n",
    "\n",
    "    ax6 = plt.subplot(2, 3, 6)\n",
    "    precision, recall, f1_per_class, support = precision_recall_fscore_support(all_targets, all_preds, average=None)\n",
    "    class_names = ['Low', 'Medium', 'High']\n",
    "    x = np.arange(len(class_names))\n",
    "    width = 0.25\n",
    "    ax6.bar(x - width, precision, width, label='Precision', alpha=0.8)\n",
    "    ax6.bar(x, recall, width, label='Recall', alpha=0.8)\n",
    "    ax6.bar(x + width, f1_per_class, width, label='F1-Score', alpha=0.8)\n",
    "    ax6.set_title('Per-Class Metrics', fontsize=14, fontweight='bold')\n",
    "    ax6.set_xlabel('Classes')\n",
    "    ax6.set_ylabel('Score')\n",
    "    ax6.set_xticks(x)\n",
    "    ax6.set_xticklabels(class_names)\n",
    "    ax6.legend()\n",
    "    ax6.grid(True, alpha=0.3)\n",
    "\n",
    "    plt.tight_layout()\n",
    "    plt.savefig('training_results.png', dpi=300, bbox_inches='tight')\n",
    "    plt.show()\n"
   ]
  },
  {
   "cell_type": "code",
   "execution_count": 23,
   "metadata": {},
   "outputs": [
    {
     "name": "stdout",
     "output_type": "stream",
     "text": [
      "loss: 1.392484  [   70/  344]\n",
      "loss: 2.337373  [   70/  344]\n",
      "loss: 1.422312  [   70/  344]\n",
      "loss: 1.265317  [   70/  344]\n",
      "loss: 1.365970  [   70/  344]\n",
      "loss: 1.154135  [   70/  344]\n",
      "loss: 1.181504  [   70/  344]\n"
     ]
    },
    {
     "ename": "KeyboardInterrupt",
     "evalue": "",
     "output_type": "error",
     "traceback": [
      "\u001b[0;31m---------------------------------------------------------------------------\u001b[0m",
      "\u001b[0;31mKeyboardInterrupt\u001b[0m                         Traceback (most recent call last)",
      "\u001b[0;32m/tmp/ipykernel_248027/2249786357.py\u001b[0m in \u001b[0;36m<module>\u001b[0;34m\u001b[0m\n\u001b[1;32m      1\u001b[0m \u001b[0;32mfor\u001b[0m \u001b[0mepoch\u001b[0m \u001b[0;32min\u001b[0m \u001b[0mrange\u001b[0m\u001b[0;34m(\u001b[0m\u001b[0;36m50\u001b[0m\u001b[0;34m)\u001b[0m\u001b[0;34m:\u001b[0m\u001b[0;34m\u001b[0m\u001b[0;34m\u001b[0m\u001b[0m\n\u001b[0;32m----> 2\u001b[0;31m     \u001b[0mtrain_loop\u001b[0m\u001b[0;34m(\u001b[0m\u001b[0mtrain_dataloader\u001b[0m\u001b[0;34m,\u001b[0m \u001b[0myolo\u001b[0m\u001b[0;34m,\u001b[0m \u001b[0mloss_fn\u001b[0m\u001b[0;34m,\u001b[0m \u001b[0mscheduler\u001b[0m\u001b[0;34m)\u001b[0m\u001b[0;34m\u001b[0m\u001b[0;34m\u001b[0m\u001b[0m\n\u001b[0m",
      "\u001b[0;32m/tmp/ipykernel_248027/1869443834.py\u001b[0m in \u001b[0;36mtrain_loop\u001b[0;34m(dataloader, model, loss_fn, scheduler)\u001b[0m\n\u001b[1;32m     16\u001b[0m         \u001b[0moptimizer\u001b[0m\u001b[0;34m.\u001b[0m\u001b[0mstep\u001b[0m\u001b[0;34m(\u001b[0m\u001b[0;34m)\u001b[0m\u001b[0;34m\u001b[0m\u001b[0;34m\u001b[0m\u001b[0m\n\u001b[1;32m     17\u001b[0m         \u001b[0moptimizer\u001b[0m\u001b[0;34m.\u001b[0m\u001b[0mzero_grad\u001b[0m\u001b[0;34m(\u001b[0m\u001b[0;34m)\u001b[0m\u001b[0;34m\u001b[0m\u001b[0;34m\u001b[0m\u001b[0m\n\u001b[0;32m---> 18\u001b[0;31m         \u001b[0mscheduler\u001b[0m\u001b[0;34m.\u001b[0m\u001b[0mstep\u001b[0m\u001b[0;34m(\u001b[0m\u001b[0mloss\u001b[0m\u001b[0;34m)\u001b[0m\u001b[0;34m\u001b[0m\u001b[0;34m\u001b[0m\u001b[0m\n\u001b[0m\u001b[1;32m     19\u001b[0m         \u001b[0;32mif\u001b[0m \u001b[0mbatch\u001b[0m \u001b[0;34m%\u001b[0m \u001b[0;36m100\u001b[0m \u001b[0;34m==\u001b[0m \u001b[0;36m0\u001b[0m\u001b[0;34m:\u001b[0m\u001b[0;34m\u001b[0m\u001b[0;34m\u001b[0m\u001b[0m\n\u001b[1;32m     20\u001b[0m             \u001b[0mloss\u001b[0m\u001b[0;34m,\u001b[0m \u001b[0mcurrent\u001b[0m \u001b[0;34m=\u001b[0m \u001b[0mloss\u001b[0m\u001b[0;34m.\u001b[0m\u001b[0mitem\u001b[0m\u001b[0;34m(\u001b[0m\u001b[0;34m)\u001b[0m\u001b[0;34m,\u001b[0m \u001b[0;34m(\u001b[0m\u001b[0mbatch\u001b[0m \u001b[0;34m+\u001b[0m \u001b[0;36m1\u001b[0m\u001b[0;34m)\u001b[0m \u001b[0;34m*\u001b[0m \u001b[0mlen\u001b[0m\u001b[0;34m(\u001b[0m\u001b[0mX\u001b[0m\u001b[0;34m)\u001b[0m\u001b[0;34m\u001b[0m\u001b[0;34m\u001b[0m\u001b[0m\n",
      "\u001b[0;32m~/.local/lib/python3.8/site-packages/torch/optim/lr_scheduler.py\u001b[0m in \u001b[0;36mstep\u001b[0;34m(self, metrics, epoch)\u001b[0m\n\u001b[1;32m   1316\u001b[0m     \u001b[0;32mdef\u001b[0m \u001b[0mstep\u001b[0m\u001b[0;34m(\u001b[0m\u001b[0mself\u001b[0m\u001b[0;34m,\u001b[0m \u001b[0mmetrics\u001b[0m\u001b[0;34m:\u001b[0m \u001b[0mSupportsFloat\u001b[0m\u001b[0;34m,\u001b[0m \u001b[0mepoch\u001b[0m\u001b[0;34m=\u001b[0m\u001b[0;32mNone\u001b[0m\u001b[0;34m)\u001b[0m\u001b[0;34m:\u001b[0m  \u001b[0;31m# type: ignore[override]\u001b[0m\u001b[0;34m\u001b[0m\u001b[0;34m\u001b[0m\u001b[0m\n\u001b[1;32m   1317\u001b[0m         \u001b[0;31m# convert `metrics` to float, in case it's a zero-dim Tensor\u001b[0m\u001b[0;34m\u001b[0m\u001b[0;34m\u001b[0m\u001b[0;34m\u001b[0m\u001b[0m\n\u001b[0;32m-> 1318\u001b[0;31m         \u001b[0mcurrent\u001b[0m \u001b[0;34m=\u001b[0m \u001b[0mfloat\u001b[0m\u001b[0;34m(\u001b[0m\u001b[0mmetrics\u001b[0m\u001b[0;34m)\u001b[0m\u001b[0;34m\u001b[0m\u001b[0;34m\u001b[0m\u001b[0m\n\u001b[0m\u001b[1;32m   1319\u001b[0m         \u001b[0;32mif\u001b[0m \u001b[0mepoch\u001b[0m \u001b[0;32mis\u001b[0m \u001b[0;32mNone\u001b[0m\u001b[0;34m:\u001b[0m\u001b[0;34m\u001b[0m\u001b[0;34m\u001b[0m\u001b[0m\n\u001b[1;32m   1320\u001b[0m             \u001b[0mepoch\u001b[0m \u001b[0;34m=\u001b[0m \u001b[0mself\u001b[0m\u001b[0;34m.\u001b[0m\u001b[0mlast_epoch\u001b[0m \u001b[0;34m+\u001b[0m \u001b[0;36m1\u001b[0m\u001b[0;34m\u001b[0m\u001b[0;34m\u001b[0m\u001b[0m\n",
      "\u001b[0;31mKeyboardInterrupt\u001b[0m: "
     ]
    }
   ],
   "source": [
    "for epoch in range(50):\n",
    "    train_loop(train_dataloader, yolo, loss_fn, scheduler)"
   ]
  },
  {
   "cell_type": "code",
   "execution_count": 37,
   "metadata": {},
   "outputs": [],
   "source": [
    "def test(dataloader, model, loss_fn):\n",
    "    size = len(dataloader.dataset)\n",
    "    num_batches = len(dataloader)\n",
    "\n",
    "    model.eval()\n",
    "    test_loss, correct = 0,0\n",
    "\n",
    "    with torch.no_grad():\n",
    "        for X, y in dataloader:\n",
    "            X, y = X.to(device), y.to(device)\n",
    "            pred = model(X)\n",
    "            test_loss += loss_fn(pred, y).item()\n",
    "            correct += (pred.argmax(1) == y).type(torch.float).sum().item()\n",
    "        test_loss /= num_batches\n",
    "        correct/=size\n",
    "        print(f\"Test Error: \\n Accuracy: {(100*correct):>0.1f}%, Avg loss: {test_loss:>8f} \\n\")"
   ]
  },
  {
   "cell_type": "code",
   "execution_count": 54,
   "metadata": {},
   "outputs": [],
   "source": [
    "def train_and_plot(train_dataloader, test_dataloader, model, loss_fn, optimizer, epochs):\n",
    "    \"\"\"\n",
    "    Training function that trains for specified epochs and shows graphs at the end\n",
    "    \"\"\"\n",
    "    print(f\"Starting training for {epochs} epochs...\")\n",
    "    \n",
    "    train_losses = []\n",
    "    test_losses = []\n",
    "    test_accuracies = []\n",
    "    \n",
    "    for epoch in range(epochs):\n",
    "        print(f\"\\nEpoch {epoch+1}/{epochs}\")\n",
    "        \n",
    "        model.train()\n",
    "        train_loss = 0\n",
    "        train_size = len(train_dataloader.dataset)\n",
    "        \n",
    "        for batch, (X, y) in enumerate(train_dataloader):\n",
    "            X, y = X.to(device), y.to(device)\n",
    "            \n",
    "            pred = model(X)\n",
    "            loss = loss_fn(pred, y)\n",
    "            \n",
    "            loss.backward()\n",
    "            optimizer.step()\n",
    "            optimizer.zero_grad()\n",
    "            \n",
    "            train_loss += loss.item()\n",
    "            \n",
    "            if batch % 100 == 0:\n",
    "                current = (batch + 1) * len(X)\n",
    "                print(f\"loss: {loss.item():>7f}  [{current:>5d}/{train_size:>5d}]\")\n",
    "        \n",
    "        avg_train_loss = train_loss / len(train_dataloader)\n",
    "        train_losses.append(avg_train_loss)\n",
    "        \n",
    "        model.eval()\n",
    "        test_loss, correct = 0, 0\n",
    "        test_size = len(test_dataloader.dataset)\n",
    "        num_batches = len(test_dataloader)\n",
    "        \n",
    "        with torch.no_grad():\n",
    "            for X, y in test_dataloader:\n",
    "                X, y = X.to(device), y.to(device)\n",
    "                pred = model(X)\n",
    "                test_loss += loss_fn(pred, y).item()\n",
    "                correct += (pred.argmax(1) == y).type(torch.float).sum().item()\n",
    "        \n",
    "        test_loss /= num_batches\n",
    "        accuracy = correct / test_size\n",
    "        \n",
    "        test_losses.append(test_loss)\n",
    "        test_accuracies.append(accuracy)\n",
    "        \n",
    "        print(f\"Test Error: \\n Accuracy: {(100*accuracy):>0.1f}%, Avg loss: {test_loss:>8f}\")\n",
    "    \n",
    "    print(f\"\\n🎉 Training completed!\")\n",
    "    print(f\"Final Test Accuracy: {(100*test_accuracies[-1]):>0.1f}%\")\n",
    "        \n",
    "    epochs_range = range(1, epochs + 1)\n",
    "    \n",
    "    fig, (ax1, ax2) = plt.subplots(1, 2, figsize=(15, 5))\n",
    "    \n",
    "    ax1.plot(epochs_range, train_losses, 'b-', label='Training Loss', linewidth=2)\n",
    "    ax1.plot(epochs_range, test_losses, 'r-', label='Test Loss', linewidth=2)\n",
    "    ax1.set_title('Training and Test Loss')\n",
    "    ax1.set_xlabel('Epoch')\n",
    "    ax1.set_ylabel('Loss')\n",
    "    ax1.legend()\n",
    "    ax1.grid(True)\n",
    "    \n",
    "    ax2.plot(epochs_range, [acc * 100 for acc in test_accuracies], 'g-', label='Test Accuracy', linewidth=2)\n",
    "    ax2.set_title('Test Accuracy')\n",
    "    ax2.set_xlabel('Epoch')\n",
    "    ax2.set_ylabel('Accuracy (%)')\n",
    "    ax2.legend()\n",
    "    ax2.grid(True)\n",
    "    ax2.set_ylim(0, 100)\n",
    "    \n",
    "    plt.tight_layout()\n",
    "    plt.show()\n",
    "    \n",
    "    return train_losses, test_losses, test_accuracies\n",
    "\n"
   ]
  },
  {
   "cell_type": "code",
   "execution_count": 56,
   "metadata": {},
   "outputs": [
    {
     "name": "stdout",
     "output_type": "stream",
     "text": [
      "Starting training for 20 epochs...\n",
      "\n",
      "Epoch 1/20\n",
      "loss: 0.000156  [  100/  344]\n",
      "Test Error: \n",
      " Accuracy: 95.3%, Avg loss: 0.094654\n",
      "\n",
      "Epoch 2/20\n",
      "loss: 0.000014  [  100/  344]\n",
      "Test Error: \n",
      " Accuracy: 95.3%, Avg loss: 0.100744\n",
      "\n",
      "Epoch 3/20\n",
      "loss: 0.000027  [  100/  344]\n",
      "Test Error: \n",
      " Accuracy: 95.3%, Avg loss: 0.104383\n",
      "\n",
      "Epoch 4/20\n",
      "loss: 0.000128  [  100/  344]\n",
      "Test Error: \n",
      " Accuracy: 95.3%, Avg loss: 0.117850\n",
      "\n",
      "Epoch 5/20\n",
      "loss: 0.000018  [  100/  344]\n",
      "Test Error: \n",
      " Accuracy: 95.3%, Avg loss: 0.110655\n",
      "\n",
      "Epoch 6/20\n",
      "loss: 0.000189  [  100/  344]\n",
      "Test Error: \n",
      " Accuracy: 95.3%, Avg loss: 0.114516\n",
      "\n",
      "Epoch 7/20\n",
      "loss: 0.000101  [  100/  344]\n",
      "Test Error: \n",
      " Accuracy: 95.3%, Avg loss: 0.121802\n",
      "\n",
      "Epoch 8/20\n",
      "loss: 0.000151  [  100/  344]\n",
      "Test Error: \n",
      " Accuracy: 95.3%, Avg loss: 0.098887\n",
      "\n",
      "Epoch 9/20\n",
      "loss: 0.000143  [  100/  344]\n",
      "Test Error: \n",
      " Accuracy: 95.3%, Avg loss: 0.104664\n",
      "\n",
      "Epoch 10/20\n",
      "loss: 0.000121  [  100/  344]\n",
      "Test Error: \n",
      " Accuracy: 95.3%, Avg loss: 0.103674\n",
      "\n",
      "Epoch 11/20\n",
      "loss: 0.000019  [  100/  344]\n",
      "Test Error: \n",
      " Accuracy: 95.3%, Avg loss: 0.105672\n",
      "\n",
      "Epoch 12/20\n",
      "loss: 0.000145  [  100/  344]\n",
      "Test Error: \n",
      " Accuracy: 95.3%, Avg loss: 0.105466\n",
      "\n",
      "Epoch 13/20\n",
      "loss: 0.000029  [  100/  344]\n",
      "Test Error: \n",
      " Accuracy: 95.3%, Avg loss: 0.101095\n",
      "\n",
      "Epoch 14/20\n",
      "loss: 0.000287  [  100/  344]\n",
      "Test Error: \n",
      " Accuracy: 95.3%, Avg loss: 0.115205\n",
      "\n",
      "Epoch 15/20\n",
      "loss: 0.000049  [  100/  344]\n",
      "Test Error: \n",
      " Accuracy: 95.3%, Avg loss: 0.098051\n",
      "\n",
      "Epoch 16/20\n",
      "loss: 0.000060  [  100/  344]\n",
      "Test Error: \n",
      " Accuracy: 95.3%, Avg loss: 0.095125\n",
      "\n",
      "Epoch 17/20\n",
      "loss: 0.000155  [  100/  344]\n",
      "Test Error: \n",
      " Accuracy: 95.3%, Avg loss: 0.099955\n",
      "\n",
      "Epoch 18/20\n",
      "loss: 0.000017  [  100/  344]\n",
      "Test Error: \n",
      " Accuracy: 96.5%, Avg loss: 0.090372\n",
      "\n",
      "Epoch 19/20\n",
      "loss: 0.000757  [  100/  344]\n"
     ]
    },
    {
     "ename": "KeyboardInterrupt",
     "evalue": "",
     "output_type": "error",
     "traceback": [
      "\u001b[0;31m---------------------------------------------------------------------------\u001b[0m",
      "\u001b[0;31mKeyboardInterrupt\u001b[0m                         Traceback (most recent call last)",
      "\u001b[0;32m/tmp/ipykernel_357447/3041698152.py\u001b[0m in \u001b[0;36m<module>\u001b[0;34m\u001b[0m\n\u001b[0;32m----> 1\u001b[0;31m \u001b[0mtrain_and_plot\u001b[0m\u001b[0;34m(\u001b[0m\u001b[0mtrain_dataloader\u001b[0m\u001b[0;34m,\u001b[0m \u001b[0mtest_dataloader\u001b[0m\u001b[0;34m,\u001b[0m \u001b[0myolo\u001b[0m\u001b[0;34m,\u001b[0m \u001b[0mloss_fn\u001b[0m\u001b[0;34m,\u001b[0m \u001b[0moptimizer\u001b[0m\u001b[0;34m,\u001b[0m \u001b[0mepochs\u001b[0m\u001b[0;34m=\u001b[0m\u001b[0;36m20\u001b[0m\u001b[0;34m)\u001b[0m\u001b[0;34m\u001b[0m\u001b[0;34m\u001b[0m\u001b[0m\n\u001b[0m",
      "\u001b[0;32m/tmp/ipykernel_357447/3734540596.py\u001b[0m in \u001b[0;36mtrain_and_plot\u001b[0;34m(train_dataloader, test_dataloader, model, loss_fn, optimizer, epochs)\u001b[0m\n\u001b[1;32m     26\u001b[0m             \u001b[0moptimizer\u001b[0m\u001b[0;34m.\u001b[0m\u001b[0mzero_grad\u001b[0m\u001b[0;34m(\u001b[0m\u001b[0;34m)\u001b[0m\u001b[0;34m\u001b[0m\u001b[0;34m\u001b[0m\u001b[0m\n\u001b[1;32m     27\u001b[0m \u001b[0;34m\u001b[0m\u001b[0m\n\u001b[0;32m---> 28\u001b[0;31m             \u001b[0mtrain_loss\u001b[0m \u001b[0;34m+=\u001b[0m \u001b[0mloss\u001b[0m\u001b[0;34m.\u001b[0m\u001b[0mitem\u001b[0m\u001b[0;34m(\u001b[0m\u001b[0;34m)\u001b[0m\u001b[0;34m\u001b[0m\u001b[0;34m\u001b[0m\u001b[0m\n\u001b[0m\u001b[1;32m     29\u001b[0m \u001b[0;34m\u001b[0m\u001b[0m\n\u001b[1;32m     30\u001b[0m             \u001b[0;32mif\u001b[0m \u001b[0mbatch\u001b[0m \u001b[0;34m%\u001b[0m \u001b[0;36m100\u001b[0m \u001b[0;34m==\u001b[0m \u001b[0;36m0\u001b[0m\u001b[0;34m:\u001b[0m\u001b[0;34m\u001b[0m\u001b[0;34m\u001b[0m\u001b[0m\n",
      "\u001b[0;31mKeyboardInterrupt\u001b[0m: "
     ]
    }
   ],
   "source": [
    "train_and_plot(train_dataloader, test_dataloader, yolo, loss_fn, optimizer, epochs=20)"
   ]
  },
  {
   "cell_type": "code",
   "execution_count": 48,
   "metadata": {},
   "outputs": [
    {
     "name": "stdout",
     "output_type": "stream",
     "text": [
      "Test Error: \n",
      " Accuracy: 95.3%, Avg loss: 0.095828 \n",
      "\n"
     ]
    }
   ],
   "source": [
    "test(test_dataloader, yolo, loss_fn)"
   ]
  },
  {
   "cell_type": "code",
   "execution_count": 68,
   "metadata": {},
   "outputs": [],
   "source": [
    "def save(model, file='./model'):\n",
    "    torch.save(model.state_dict(),file)"
   ]
  },
  {
   "cell_type": "code",
   "execution_count": 69,
   "metadata": {},
   "outputs": [],
   "source": [
    "save(model)"
   ]
  },
  {
   "cell_type": "code",
   "execution_count": 13,
   "metadata": {},
   "outputs": [
    {
     "name": "stdout",
     "output_type": "stream",
     "text": [
      "Prediction: 5. Ground truth: 5\n"
     ]
    }
   ],
   "source": [
    "sample_idx = torch.randint(len(train_data), size= (1,)).item()\n",
    "\n",
    "pred = model(train_data[sample_idx][0].view(1,1,28,28)).argmax(1).item()\n",
    "truth = train_data[sample_idx][1]\n",
    "\n",
    "print(f\"Prediction: {pred}. Ground truth: {truth}\")"
   ]
  },
  {
   "cell_type": "code",
   "execution_count": 16,
   "metadata": {},
   "outputs": [],
   "source": [
    "t = torch.ones(size=(3,2,))"
   ]
  },
  {
   "cell_type": "code",
   "execution_count": 17,
   "metadata": {},
   "outputs": [
    {
     "data": {
      "text/plain": [
       "tensor([[1., 1.],\n",
       "        [1., 1.],\n",
       "        [1., 1.]])"
      ]
     },
     "execution_count": 17,
     "metadata": {},
     "output_type": "execute_result"
    }
   ],
   "source": [
    "t"
   ]
  },
  {
   "cell_type": "code",
   "execution_count": 18,
   "metadata": {},
   "outputs": [],
   "source": [
    "n = t.numpy()"
   ]
  },
  {
   "cell_type": "code",
   "execution_count": 19,
   "metadata": {},
   "outputs": [
    {
     "data": {
      "text/plain": [
       "array([[1., 1.],\n",
       "       [1., 1.],\n",
       "       [1., 1.]], dtype=float32)"
      ]
     },
     "execution_count": 19,
     "metadata": {},
     "output_type": "execute_result"
    }
   ],
   "source": [
    "n"
   ]
  },
  {
   "cell_type": "code",
   "execution_count": 32,
   "metadata": {},
   "outputs": [
    {
     "data": {
      "text/plain": [
       "tensor([[12., 12.],\n",
       "        [12., 12.],\n",
       "        [12., 12.]])"
      ]
     },
     "execution_count": 32,
     "metadata": {},
     "output_type": "execute_result"
    }
   ],
   "source": [
    "t.add_(2)"
   ]
  },
  {
   "cell_type": "code",
   "execution_count": 33,
   "metadata": {},
   "outputs": [
    {
     "data": {
      "text/plain": [
       "array([[12., 12.],\n",
       "       [12., 12.],\n",
       "       [12., 12.]], dtype=float32)"
      ]
     },
     "execution_count": 33,
     "metadata": {},
     "output_type": "execute_result"
    }
   ],
   "source": [
    "n"
   ]
  },
  {
   "cell_type": "code",
   "execution_count": null,
   "metadata": {},
   "outputs": [],
   "source": []
  },
  {
   "cell_type": "code",
   "execution_count": null,
   "metadata": {},
   "outputs": [],
   "source": [
    "# Improved training and testing functions with metric tracking\n",
    "\n",
    "def train_with_metrics(dataloader, model, loss_fn, optimizer, epoch_num=None):\n",
    "    \"\"\"\n",
    "    Enhanced training function that returns metrics for plotting\n",
    "    \"\"\"\n",
    "    size = len(dataloader.dataset)\n",
    "    model.train()\n",
    "    \n",
    "    # Track metrics\n",
    "    total_loss = 0\n",
    "    batch_losses = []\n",
    "    num_batches = len(dataloader)\n",
    "    \n",
    "    for batch, (X, y) in enumerate(dataloader):\n",
    "        X, y = X.to(device), y.to(device)\n",
    "\n",
    "        # Forward pass\n",
    "        pred = model(X)\n",
    "        loss = loss_fn(pred, y)\n",
    "        \n",
    "        # Backward pass\n",
    "        loss.backward()\n",
    "        optimizer.step()\n",
    "        optimizer.zero_grad()\n",
    "        \n",
    "        # Track metrics\n",
    "        loss_value = loss.item()\n",
    "        total_loss += loss_value\n",
    "        batch_losses.append(loss_value)\n",
    "        \n",
    "        # Print progress\n",
    "        if batch % 10 == 0:  # Print more frequently for better monitoring\n",
    "            current = (batch + 1) * len(X)\n",
    "            if epoch_num is not None:\n",
    "                print(f\"Epoch {epoch_num:>3} | Loss: {loss_value:>7f} [{current:>5d}/{size:>5d}]\")\n",
    "            else:\n",
    "                print(f\"Loss: {loss_value:>7f} [{current:>5d}/{size:>5d}]\")\n",
    "    \n",
    "    # Calculate average loss for the epoch\n",
    "    avg_loss = total_loss / num_batches\n",
    "    return avg_loss, batch_losses\n",
    "\n",
    "\n",
    "def test_with_metrics(dataloader, model, loss_fn, verbose=True):\n",
    "    \"\"\"\n",
    "    Enhanced testing function that returns metrics for plotting\n",
    "    \"\"\"\n",
    "    size = len(dataloader.dataset)\n",
    "    num_batches = len(dataloader)\n",
    "    \n",
    "    model.eval()\n",
    "    test_loss = 0\n",
    "    correct = 0\n",
    "    \n",
    "    with torch.no_grad():\n",
    "        for X, y in dataloader:\n",
    "            X, y = X.to(device), y.to(device)\n",
    "            pred = model(X)\n",
    "            test_loss += loss_fn(pred, y).item()\n",
    "            correct += (pred.argmax(1) == y).type(torch.float).sum().item()\n",
    "    \n",
    "    # Calculate metrics\n",
    "    avg_loss = test_loss / num_batches\n",
    "    accuracy = correct / size\n",
    "    \n",
    "    if verbose:\n",
    "        print(f\"Test Results: Accuracy: {(100*accuracy):>0.1f}%, Avg Loss: {avg_loss:>8f}\")\n",
    "    \n",
    "    return accuracy, avg_loss\n",
    "\n",
    "\n",
    "def plot_training_metrics(train_losses, test_losses, test_accuracies, save_path=None):\n",
    "    \"\"\"\n",
    "    Plot training and testing metrics\n",
    "    \"\"\"\n",
    "    epochs = range(1, len(train_losses) + 1)\n",
    "    \n",
    "    fig, (ax1, ax2) = plt.subplots(1, 2, figsize=(15, 5))\n",
    "    \n",
    "    # Plot losses\n",
    "    ax1.plot(epochs, train_losses, 'b-', label='Training Loss', linewidth=2)\n",
    "    ax1.plot(epochs, test_losses, 'r-', label='Test Loss', linewidth=2)\n",
    "    ax1.set_title('Training and Test Loss', fontsize=14, fontweight='bold')\n",
    "    ax1.set_xlabel('Epoch')\n",
    "    ax1.set_ylabel('Loss')\n",
    "    ax1.legend()\n",
    "    ax1.grid(True, alpha=0.3)\n",
    "    \n",
    "    # Plot accuracy\n",
    "    ax2.plot(epochs, [acc * 100 for acc in test_accuracies], 'g-', label='Test Accuracy', linewidth=2)\n",
    "    ax2.set_title('Test Accuracy', fontsize=14, fontweight='bold')\n",
    "    ax2.set_xlabel('Epoch')\n",
    "    ax2.set_ylabel('Accuracy (%)')\n",
    "    ax2.legend()\n",
    "    ax2.grid(True, alpha=0.3)\n",
    "    ax2.set_ylim(0, 100)\n",
    "    \n",
    "    plt.tight_layout()\n",
    "    \n",
    "    if save_path:\n",
    "        plt.savefig(save_path, dpi=300, bbox_inches='tight')\n",
    "        print(f\"Plot saved to {save_path}\")\n",
    "    \n",
    "    plt.show()\n",
    "\n",
    "\n",
    "def plot_batch_losses(batch_losses, save_path=None):\n",
    "    \"\"\"\n",
    "    Plot batch-level losses to see training dynamics\n",
    "    \"\"\"\n",
    "    plt.figure(figsize=(12, 6))\n",
    "    plt.plot(batch_losses, alpha=0.7, linewidth=1)\n",
    "    plt.title('Batch-level Training Loss', fontsize=14, fontweight='bold')\n",
    "    plt.xlabel('Batch')\n",
    "    plt.ylabel('Loss')\n",
    "    plt.grid(True, alpha=0.3)\n",
    "    \n",
    "    if save_path:\n",
    "        plt.savefig(save_path, dpi=300, bbox_inches='tight')\n",
    "        print(f\"Batch loss plot saved to {save_path}\")\n",
    "    \n",
    "    plt.show()\n",
    "\n",
    "print(\"✅ Enhanced training functions with metric tracking loaded!\")\n"
   ]
  },
  {
   "cell_type": "code",
   "execution_count": null,
   "metadata": {},
   "outputs": [],
   "source": [
    "# Complete training loop with metric tracking and plotting\n",
    "import time\n",
    "\n",
    "def train_model_with_tracking(model, train_dataloader, test_dataloader, loss_fn, optimizer, \n",
    "                             num_epochs=10, plot_every=5, save_plots=True):\n",
    "    \"\"\"\n",
    "    Complete training loop with metric tracking and visualization\n",
    "    \"\"\"\n",
    "    print(\"🚀 Starting training with metric tracking...\")\n",
    "    print(f\"📊 Training for {num_epochs} epochs\")\n",
    "    print(f\"🔥 Using device: {device}\")\n",
    "    print(\"-\" * 60)\n",
    "    \n",
    "    # Initialize metric storage\n",
    "    train_losses = []\n",
    "    test_losses = []\n",
    "    test_accuracies = []\n",
    "    all_batch_losses = []\n",
    "    \n",
    "    start_time = time.time()\n",
    "    \n",
    "    for epoch in range(1, num_epochs + 1):\n",
    "        epoch_start = time.time()\n",
    "        \n",
    "        # Training phase\n",
    "        print(f\"\\n📈 Epoch {epoch}/{num_epochs}\")\n",
    "        train_loss, batch_losses = train_with_metrics(train_dataloader, model, loss_fn, optimizer, epoch)\n",
    "        all_batch_losses.extend(batch_losses)\n",
    "        train_losses.append(train_loss)\n",
    "        \n",
    "        # Testing phase\n",
    "        test_accuracy, test_loss = test_with_metrics(test_dataloader, model, loss_fn)\n",
    "        test_losses.append(test_loss)\n",
    "        test_accuracies.append(test_accuracy)\n",
    "        \n",
    "        # Epoch summary\n",
    "        epoch_time = time.time() - epoch_start\n",
    "        print(f\"📋 Epoch {epoch} Summary:\")\n",
    "        print(f\"   Training Loss: {train_loss:.6f}\")\n",
    "        print(f\"   Test Loss: {test_loss:.6f}\")\n",
    "        print(f\"   Test Accuracy: {test_accuracy*100:.2f}%\")\n",
    "        print(f\"   Time: {epoch_time:.2f}s\")\n",
    "        \n",
    "        # Plot intermediate results\n",
    "        if epoch % plot_every == 0 or epoch == num_epochs:\n",
    "            print(f\"\\n📊 Plotting metrics after epoch {epoch}...\")\n",
    "            plot_training_metrics(train_losses, test_losses, test_accuracies, \n",
    "                                save_path=f\"training_progress_epoch_{epoch}.png\" if save_plots else None)\n",
    "    \n",
    "    total_time = time.time() - start_time\n",
    "    print(f\"\\n🎉 Training completed!\")\n",
    "    print(f\"⏱️  Total time: {total_time:.2f}s ({total_time/60:.2f} minutes)\")\n",
    "    print(f\"🎯 Final test accuracy: {test_accuracies[-1]*100:.2f}%\")\n",
    "    \n",
    "    # Plot final batch losses\n",
    "    if len(all_batch_losses) > 0:\n",
    "        print(\"\\n📈 Plotting batch-level losses...\")\n",
    "        plot_batch_losses(all_batch_losses, \n",
    "                         save_path=\"batch_losses.png\" if save_plots else None)\n",
    "    \n",
    "    # Return metrics for further analysis\n",
    "    return {\n",
    "        'train_losses': train_losses,\n",
    "        'test_losses': test_losses,\n",
    "        'test_accuracies': test_accuracies,\n",
    "        'batch_losses': all_batch_losses,\n",
    "        'final_accuracy': test_accuracies[-1],\n",
    "        'total_time': total_time\n",
    "    }\n",
    "\n",
    "print(\"✅ Complete training loop with tracking ready!\")\n"
   ]
  },
  {
   "cell_type": "code",
   "execution_count": null,
   "metadata": {},
   "outputs": [],
   "source": [
    "# Example: How to use the enhanced training functions\n",
    "\n",
    "# Option 1: Train a fresh model with tracking\n",
    "print(\"🔧 Setting up fresh model for demonstration...\")\n",
    "fresh_model = create_lightweight_detector().to(device)\n",
    "fresh_optimizer = torch.optim.AdamW(fresh_model.parameters(), lr=1e-3)\n",
    "\n",
    "# Example training call (uncomment to run):\n",
    "# training_results = train_model_with_tracking(\n",
    "#     model=fresh_model,\n",
    "#     train_dataloader=train_dataloader,\n",
    "#     test_dataloader=test_dataloader,\n",
    "#     loss_fn=loss_fn,\n",
    "#     optimizer=fresh_optimizer,\n",
    "#     num_epochs=10,          # Number of epochs to train\n",
    "#     plot_every=5,           # Plot metrics every 5 epochs\n",
    "#     save_plots=True         # Save plots to files\n",
    "# )\n",
    "\n",
    "# Option 2: Continue training your existing model with tracking\n",
    "print(\"📊 You can continue training your existing model with:\")\n",
    "print(\"training_results = train_model_with_tracking(\")\n",
    "print(\"    model=yolo,\")\n",
    "print(\"    train_dataloader=train_dataloader,\")\n",
    "print(\"    test_dataloader=test_dataloader,\")\n",
    "print(\"    loss_fn=loss_fn,\")\n",
    "print(\"    optimizer=optimizer,\")\n",
    "print(\"    num_epochs=20\")\n",
    "print(\")\")\n",
    "\n",
    "# Option 3: Just plot metrics for your current training run\n",
    "print(\"\\n📈 Or test the plotting functions with dummy data:\")\n",
    "\n",
    "# Create some example metrics for demonstration\n",
    "import numpy as np\n",
    "epochs = 20\n",
    "example_train_losses = np.exp(-np.linspace(0, 3, epochs)) + 0.1 * np.random.random(epochs)\n",
    "example_test_losses = np.exp(-np.linspace(0, 2.5, epochs)) + 0.15 * np.random.random(epochs)\n",
    "example_accuracies = 1 - np.exp(-np.linspace(0, 3, epochs)) * 0.8 + 0.05 * np.random.random(epochs)\n",
    "\n",
    "print(\"\\n🎨 Plotting example training curves...\")\n",
    "plot_training_metrics(example_train_losses, example_test_losses, example_accuracies)\n",
    "\n",
    "print(\"\\n✅ Ready to track your training progress!\")\n"
   ]
  },
  {
   "cell_type": "code",
   "execution_count": null,
   "metadata": {},
   "outputs": [],
   "source": [
    "# Simple training function that shows graphs at the end (based on your existing style)\n",
    "\n",
    "def train_and_plot(train_dataloader, test_dataloader, model, loss_fn, optimizer, epochs):\n",
    "    \"\"\"\n",
    "    Training function that trains for specified epochs and shows graphs at the end\n",
    "    \"\"\"\n",
    "    print(f\"Starting training for {epochs} epochs...\")\n",
    "    \n",
    "    # Lists to store metrics\n",
    "    train_losses = []\n",
    "    test_losses = []\n",
    "    test_accuracies = []\n",
    "    \n",
    "    # Training loop\n",
    "    for epoch in range(epochs):\n",
    "        print(f\"\\nEpoch {epoch+1}/{epochs}\")\n",
    "        \n",
    "        # TRAINING PHASE\n",
    "        model.train()\n",
    "        train_loss = 0\n",
    "        train_size = len(train_dataloader.dataset)\n",
    "        \n",
    "        for batch, (X, y) in enumerate(train_dataloader):\n",
    "            X, y = X.to(device), y.to(device)\n",
    "            \n",
    "            pred = model(X)\n",
    "            loss = loss_fn(pred, y)\n",
    "            \n",
    "            loss.backward()\n",
    "            optimizer.step()\n",
    "            optimizer.zero_grad()\n",
    "            \n",
    "            train_loss += loss.item()\n",
    "            \n",
    "            if batch % 100 == 0:\n",
    "                current = (batch + 1) * len(X)\n",
    "                print(f\"loss: {loss.item():>7f}  [{current:>5d}/{train_size:>5d}]\")\n",
    "        \n",
    "        # Calculate average training loss\n",
    "        avg_train_loss = train_loss / len(train_dataloader)\n",
    "        train_losses.append(avg_train_loss)\n",
    "        \n",
    "        # TESTING PHASE (using your existing test logic)\n",
    "        model.eval()\n",
    "        test_loss, correct = 0, 0\n",
    "        test_size = len(test_dataloader.dataset)\n",
    "        num_batches = len(test_dataloader)\n",
    "        \n",
    "        with torch.no_grad():\n",
    "            for X, y in test_dataloader:\n",
    "                X, y = X.to(device), y.to(device)\n",
    "                pred = model(X)\n",
    "                test_loss += loss_fn(pred, y).item()\n",
    "                correct += (pred.argmax(1) == y).type(torch.float).sum().item()\n",
    "        \n",
    "        test_loss /= num_batches\n",
    "        accuracy = correct / test_size\n",
    "        \n",
    "        test_losses.append(test_loss)\n",
    "        test_accuracies.append(accuracy)\n",
    "        \n",
    "        print(f\"Test Error: \\n Accuracy: {(100*accuracy):>0.1f}%, Avg loss: {test_loss:>8f}\")\n",
    "    \n",
    "    print(f\"\\n🎉 Training completed!\")\n",
    "    print(f\"Final Test Accuracy: {(100*test_accuracies[-1]):>0.1f}%\")\n",
    "    \n",
    "    # SHOW GRAPHS AT THE END\n",
    "    print(\"\\n📊 Showing training graphs...\")\n",
    "    \n",
    "    epochs_range = range(1, epochs + 1)\n",
    "    \n",
    "    # Create subplots\n",
    "    fig, (ax1, ax2) = plt.subplots(1, 2, figsize=(15, 5))\n",
    "    \n",
    "    # Plot losses\n",
    "    ax1.plot(epochs_range, train_losses, 'b-', label='Training Loss', linewidth=2)\n",
    "    ax1.plot(epochs_range, test_losses, 'r-', label='Test Loss', linewidth=2)\n",
    "    ax1.set_title('Training and Test Loss')\n",
    "    ax1.set_xlabel('Epoch')\n",
    "    ax1.set_ylabel('Loss')\n",
    "    ax1.legend()\n",
    "    ax1.grid(True)\n",
    "    \n",
    "    # Plot accuracy\n",
    "    ax2.plot(epochs_range, [acc * 100 for acc in test_accuracies], 'g-', label='Test Accuracy', linewidth=2)\n",
    "    ax2.set_title('Test Accuracy')\n",
    "    ax2.set_xlabel('Epoch')\n",
    "    ax2.set_ylabel('Accuracy (%)')\n",
    "    ax2.legend()\n",
    "    ax2.grid(True)\n",
    "    ax2.set_ylim(0, 100)\n",
    "    \n",
    "    plt.tight_layout()\n",
    "    plt.show()\n",
    "    \n",
    "    return train_losses, test_losses, test_accuracies\n",
    "\n",
    "print(\"✅ Simple train_and_plot function ready!\")\n"
   ]
  },
  {
   "cell_type": "code",
   "execution_count": null,
   "metadata": {},
   "outputs": [],
   "source": [
    "# Example: How to use the train_and_plot function\n",
    "\n",
    "print(\"🚀 Example usage:\")\n",
    "print()\n",
    "print(\"# Train your model and show graphs at the end:\")\n",
    "print(\"train_losses, test_losses, test_accuracies = train_and_plot(\")\n",
    "print(\"    train_dataloader=train_dataloader,\")  \n",
    "print(\"    test_dataloader=test_dataloader,\")\n",
    "print(\"    model=yolo,\")\n",
    "print(\"    loss_fn=loss_fn,\")\n",
    "print(\"    optimizer=optimizer,\")\n",
    "print(\"    epochs=10\")\n",
    "print(\")\")\n",
    "print()\n",
    "print(\"# Or train a fresh model:\")\n",
    "print(\"fresh_model = create_lightweight_detector().to(device)\")\n",
    "print(\"fresh_optimizer = torch.optim.AdamW(fresh_model.parameters(), lr=1e-3)\")\n",
    "print(\"train_and_plot(train_dataloader, test_dataloader, fresh_model, loss_fn, fresh_optimizer, epochs=5)\")\n",
    "\n",
    "print(\"\\n✅ Ready to train! Uncomment and run the code above to start training with automatic plotting.\")\n"
   ]
  }
 ],
 "metadata": {
  "kernelspec": {
   "display_name": "Python 3",
   "language": "python",
   "name": "python3"
  },
  "language_info": {
   "codemirror_mode": {
    "name": "ipython",
    "version": 3
   },
   "file_extension": ".py",
   "mimetype": "text/x-python",
   "name": "python",
   "nbconvert_exporter": "python",
   "pygments_lexer": "ipython3",
   "version": "3.8.10"
  }
 },
 "nbformat": 4,
 "nbformat_minor": 2
}
